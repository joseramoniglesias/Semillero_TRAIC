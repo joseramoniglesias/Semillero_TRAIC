{
 "nbformat": 4,
 "nbformat_minor": 0,
 "metadata": {
  "colab": {
   "name": "02 SQL.ipynb",
   "provenance": []
  },
  "kernelspec": {
   "name": "python3",
   "display_name": "Python 3 (ipykernel)",
   "language": "python"
  },
  "language_info": {
   "name": "python"
  }
 },
 "cells": [
  {
   "cell_type": "markdown",
   "source": [
    "## SQL<a class=\"tocSkip\">\n",
    "## Semillero TRIAC - DSP BULIDER GROUP <a class=\"tocSkip\">\n",
    "### Ingenieria Electrónica <a class=\"tocSkip\">\n",
    "### Universidad Popular del Cesar <a class=\"tocSkip\">\n",
    "### Prof.: Jose Ramón Iglesias Gamarra - [https://github.com/joseramoniglesias/](https://github.com/joseramoniglesias/) <a class=\"tocSkip\">\n",
    "**joseiglesias@unicesar.edu.co**"
   ],
   "metadata": {
    "collapsed": false
   }
  },
  {
   "cell_type": "code",
   "source": [
    "import pandas as pd\n",
    "from sqlalchemy import create_engine, text"
   ],
   "metadata": {
    "collapsed": false,
    "ExecuteTime": {
     "end_time": "2024-05-10T17:38:59.711808Z",
     "start_time": "2024-05-10T17:38:59.018662Z"
    }
   },
   "outputs": [],
   "execution_count": 1
  },
  {
   "cell_type": "code",
   "metadata": {
    "id": "2WlMFft4Oewg",
    "ExecuteTime": {
     "end_time": "2024-05-10T17:39:01.090327Z",
     "start_time": "2024-05-10T17:39:00.949110Z"
    }
   },
   "source": [
    "#url = 'https://raw.githubusercontent.com/joseramoniglesias/EL460_Ciencia_de_datos_2/main/Clases/Cap%C3%ADtulo_02/Pit%C3%B3n/survey_2022_processed.csv'\n",
    "#df = pd.read_csv(url)\n",
    "df=pd.read_csv('survey_2022_processed.csv')"
   ],
   "outputs": [],
   "execution_count": 2
  },
  {
   "cell_type": "code",
   "source": [
    "df.head()"
   ],
   "metadata": {
    "colab": {
     "base_uri": "https://localhost:8080/",
     "height": 456
    },
    "id": "sVFh91tZJBj5",
    "outputId": "a5933368-e77e-4eca-ba7e-ae71ef41eeac",
    "ExecuteTime": {
     "end_time": "2024-05-10T17:39:02.029877Z",
     "start_time": "2024-05-10T17:39:01.983161Z"
    }
   },
   "outputs": [
    {
     "data": {
      "text/plain": [
       "  work_province                                 work_contract_type  \\\n",
       "0     Catamarca  Tercerizado (trabajo a través de consultora o ...   \n",
       "1     Catamarca                                          Full-Time   \n",
       "2     Catamarca                                          Full-Time   \n",
       "3     Catamarca                                          Full-Time   \n",
       "4     Catamarca                                          Full-Time   \n",
       "\n",
       "  salary_monthly_BRUTO  salary_monthly_NETO  \\\n",
       "0               207000             150000.0   \n",
       "1               130000              99000.0   \n",
       "2               185000             145000.0   \n",
       "3                70000              60000.0   \n",
       "4                90000              74700.0   \n",
       "\n",
       "                                       salary_in_usd salary_last_dollar_value  \\\n",
       "0                                                NaN                      NaN   \n",
       "1                                                NaN                      NaN   \n",
       "2  Mi sueldo está dolarizado (pero cobro en moned...                      100   \n",
       "3                                                NaN                      NaN   \n",
       "4                                                NaN                      NaN   \n",
       "\n",
       "   salary_satisfaction  salary_comparison_last_semester  \\\n",
       "0                    2                                1   \n",
       "1                    3                                4   \n",
       "2                    2                                2   \n",
       "3                    3                                3   \n",
       "4                    3                                2   \n",
       "\n",
       "        salary_has_bonus        salary_bonus_tied_to  ...  \\\n",
       "0                     No              No recibo bono  ...   \n",
       "1              Un sueldo  Performance de la compañía  ...   \n",
       "2  De uno a tres sueldos          Performance grupal  ...   \n",
       "3                     No              No recibo bono  ...   \n",
       "4                     No              No recibo bono  ...   \n",
       "\n",
       "  work_listen_more_men  profile_has_disabilities  \\\n",
       "0                  NaN                       NaN   \n",
       "1                  NaN                       NaN   \n",
       "2                  NaN                       NaN   \n",
       "3                  NaN                       NaN   \n",
       "4                  NaN                       NaN   \n",
       "\n",
       "   profile_has_disabilities_hiring_difficulties work_lastyear_discrimination  \\\n",
       "0                                           NaN                          NaN   \n",
       "1                                           NaN                          NaN   \n",
       "2                                           NaN                          NaN   \n",
       "3                                           NaN                          NaN   \n",
       "4                                           NaN                          NaN   \n",
       "\n",
       "   ¿Salir o seguir contestando?.3  company_days_in_the_office  \\\n",
       "0                             NaN                         NaN   \n",
       "1                             NaN                         NaN   \n",
       "2                             NaN                         NaN   \n",
       "3                             NaN                         NaN   \n",
       "4                             NaN                         NaN   \n",
       "\n",
       "   company_pandemic_support  company_new_benefits profile_age profile_gender  \n",
       "0                       NaN                   NaN          34      Varón Cis  \n",
       "1                       NaN                   NaN          35      Varón Cis  \n",
       "2                       NaN                   NaN          26    Varón Trans  \n",
       "3                       NaN                   NaN          33      Varón Cis  \n",
       "4                       NaN                   NaN          29      Mujer Cis  \n",
       "\n",
       "[5 rows x 56 columns]"
      ],
      "text/html": [
       "<div>\n",
       "<style scoped>\n",
       "    .dataframe tbody tr th:only-of-type {\n",
       "        vertical-align: middle;\n",
       "    }\n",
       "\n",
       "    .dataframe tbody tr th {\n",
       "        vertical-align: top;\n",
       "    }\n",
       "\n",
       "    .dataframe thead th {\n",
       "        text-align: right;\n",
       "    }\n",
       "</style>\n",
       "<table border=\"1\" class=\"dataframe\">\n",
       "  <thead>\n",
       "    <tr style=\"text-align: right;\">\n",
       "      <th></th>\n",
       "      <th>work_province</th>\n",
       "      <th>work_contract_type</th>\n",
       "      <th>salary_monthly_BRUTO</th>\n",
       "      <th>salary_monthly_NETO</th>\n",
       "      <th>salary_in_usd</th>\n",
       "      <th>salary_last_dollar_value</th>\n",
       "      <th>salary_satisfaction</th>\n",
       "      <th>salary_comparison_last_semester</th>\n",
       "      <th>salary_has_bonus</th>\n",
       "      <th>salary_bonus_tied_to</th>\n",
       "      <th>...</th>\n",
       "      <th>work_listen_more_men</th>\n",
       "      <th>profile_has_disabilities</th>\n",
       "      <th>profile_has_disabilities_hiring_difficulties</th>\n",
       "      <th>work_lastyear_discrimination</th>\n",
       "      <th>¿Salir o seguir contestando?.3</th>\n",
       "      <th>company_days_in_the_office</th>\n",
       "      <th>company_pandemic_support</th>\n",
       "      <th>company_new_benefits</th>\n",
       "      <th>profile_age</th>\n",
       "      <th>profile_gender</th>\n",
       "    </tr>\n",
       "  </thead>\n",
       "  <tbody>\n",
       "    <tr>\n",
       "      <th>0</th>\n",
       "      <td>Catamarca</td>\n",
       "      <td>Tercerizado (trabajo a través de consultora o ...</td>\n",
       "      <td>207000</td>\n",
       "      <td>150000.0</td>\n",
       "      <td>NaN</td>\n",
       "      <td>NaN</td>\n",
       "      <td>2</td>\n",
       "      <td>1</td>\n",
       "      <td>No</td>\n",
       "      <td>No recibo bono</td>\n",
       "      <td>...</td>\n",
       "      <td>NaN</td>\n",
       "      <td>NaN</td>\n",
       "      <td>NaN</td>\n",
       "      <td>NaN</td>\n",
       "      <td>NaN</td>\n",
       "      <td>NaN</td>\n",
       "      <td>NaN</td>\n",
       "      <td>NaN</td>\n",
       "      <td>34</td>\n",
       "      <td>Varón Cis</td>\n",
       "    </tr>\n",
       "    <tr>\n",
       "      <th>1</th>\n",
       "      <td>Catamarca</td>\n",
       "      <td>Full-Time</td>\n",
       "      <td>130000</td>\n",
       "      <td>99000.0</td>\n",
       "      <td>NaN</td>\n",
       "      <td>NaN</td>\n",
       "      <td>3</td>\n",
       "      <td>4</td>\n",
       "      <td>Un sueldo</td>\n",
       "      <td>Performance de la compañía</td>\n",
       "      <td>...</td>\n",
       "      <td>NaN</td>\n",
       "      <td>NaN</td>\n",
       "      <td>NaN</td>\n",
       "      <td>NaN</td>\n",
       "      <td>NaN</td>\n",
       "      <td>NaN</td>\n",
       "      <td>NaN</td>\n",
       "      <td>NaN</td>\n",
       "      <td>35</td>\n",
       "      <td>Varón Cis</td>\n",
       "    </tr>\n",
       "    <tr>\n",
       "      <th>2</th>\n",
       "      <td>Catamarca</td>\n",
       "      <td>Full-Time</td>\n",
       "      <td>185000</td>\n",
       "      <td>145000.0</td>\n",
       "      <td>Mi sueldo está dolarizado (pero cobro en moned...</td>\n",
       "      <td>100</td>\n",
       "      <td>2</td>\n",
       "      <td>2</td>\n",
       "      <td>De uno a tres sueldos</td>\n",
       "      <td>Performance grupal</td>\n",
       "      <td>...</td>\n",
       "      <td>NaN</td>\n",
       "      <td>NaN</td>\n",
       "      <td>NaN</td>\n",
       "      <td>NaN</td>\n",
       "      <td>NaN</td>\n",
       "      <td>NaN</td>\n",
       "      <td>NaN</td>\n",
       "      <td>NaN</td>\n",
       "      <td>26</td>\n",
       "      <td>Varón Trans</td>\n",
       "    </tr>\n",
       "    <tr>\n",
       "      <th>3</th>\n",
       "      <td>Catamarca</td>\n",
       "      <td>Full-Time</td>\n",
       "      <td>70000</td>\n",
       "      <td>60000.0</td>\n",
       "      <td>NaN</td>\n",
       "      <td>NaN</td>\n",
       "      <td>3</td>\n",
       "      <td>3</td>\n",
       "      <td>No</td>\n",
       "      <td>No recibo bono</td>\n",
       "      <td>...</td>\n",
       "      <td>NaN</td>\n",
       "      <td>NaN</td>\n",
       "      <td>NaN</td>\n",
       "      <td>NaN</td>\n",
       "      <td>NaN</td>\n",
       "      <td>NaN</td>\n",
       "      <td>NaN</td>\n",
       "      <td>NaN</td>\n",
       "      <td>33</td>\n",
       "      <td>Varón Cis</td>\n",
       "    </tr>\n",
       "    <tr>\n",
       "      <th>4</th>\n",
       "      <td>Catamarca</td>\n",
       "      <td>Full-Time</td>\n",
       "      <td>90000</td>\n",
       "      <td>74700.0</td>\n",
       "      <td>NaN</td>\n",
       "      <td>NaN</td>\n",
       "      <td>3</td>\n",
       "      <td>2</td>\n",
       "      <td>No</td>\n",
       "      <td>No recibo bono</td>\n",
       "      <td>...</td>\n",
       "      <td>NaN</td>\n",
       "      <td>NaN</td>\n",
       "      <td>NaN</td>\n",
       "      <td>NaN</td>\n",
       "      <td>NaN</td>\n",
       "      <td>NaN</td>\n",
       "      <td>NaN</td>\n",
       "      <td>NaN</td>\n",
       "      <td>29</td>\n",
       "      <td>Mujer Cis</td>\n",
       "    </tr>\n",
       "  </tbody>\n",
       "</table>\n",
       "<p>5 rows × 56 columns</p>\n",
       "</div>"
      ]
     },
     "execution_count": 3,
     "metadata": {},
     "output_type": "execute_result"
    }
   ],
   "execution_count": 3
  },
  {
   "cell_type": "code",
   "source": [
    "df.columns"
   ],
   "metadata": {
    "colab": {
     "base_uri": "https://localhost:8080/"
    },
    "id": "7QsdgDXKMTJl",
    "outputId": "e912a7c2-8c6c-4c92-f978-2e3e90e6dae8",
    "ExecuteTime": {
     "end_time": "2024-05-10T17:39:05.409425Z",
     "start_time": "2024-05-10T17:39:05.396379Z"
    }
   },
   "outputs": [
    {
     "data": {
      "text/plain": [
       "Index(['work_province', 'work_contract_type', 'salary_monthly_BRUTO',\n",
       "       'salary_monthly_NETO', 'salary_in_usd', 'salary_last_dollar_value',\n",
       "       'salary_satisfaction', 'salary_comparison_last_semester',\n",
       "       'salary_has_bonus', 'salary_bonus_tied_to',\n",
       "       'salary_inflation_adjustment_2021',\n",
       "       'salary_percentage_inflation_adjustment_2021',\n",
       "       'salary_month_last_inflation_adjustment', 'work_role',\n",
       "       'profile_years_experience', 'work_years_in_company',\n",
       "       'work_years_in_current_position', 'work_people_in_charge_of',\n",
       "       'tools_platform', 'Lenguajes de programación o tecnologías.',\n",
       "       'tools_frameworks', 'tools_data_bases', 'tools_qa_testing',\n",
       "       'tools_IDEs', 'Cantidad de personas en tu organización',\n",
       "       'Trabajo para una empresa que no tiene oficina en mi ciudad',\n",
       "       'company_main_activity', 'company_recommended',\n",
       "       'company_extra_benefits', 'company_diversity_policies',\n",
       "       '¿Salir o seguir contestando?', 'profile_studies_level',\n",
       "       'profile_studies_level_state', 'profile_career', 'profile_university',\n",
       "       'profile_specialization_courses', 'profile_open_source_contributions',\n",
       "       'profile_programming_as_hobby', '¿Salir o seguir contestando?.1',\n",
       "       'work_on_call_duty', 'salary_on_call_duty_charge',\n",
       "       'work_on_call_duty_charge_type', '¿Salir o seguir contestando?.2',\n",
       "       'work_has_violence_situations',\n",
       "       '¿Considerás que en tu empresa/organización hay una marcada tendencia a escuchar más a los hombres?',\n",
       "       'work_yourself_in_your_work', 'work_listen_more_men',\n",
       "       'profile_has_disabilities',\n",
       "       'profile_has_disabilities_hiring_difficulties',\n",
       "       'work_lastyear_discrimination', '¿Salir o seguir contestando?.3',\n",
       "       'company_days_in_the_office', 'company_pandemic_support',\n",
       "       'company_new_benefits', 'profile_age', 'profile_gender'],\n",
       "      dtype='object')"
      ]
     },
     "execution_count": 4,
     "metadata": {},
     "output_type": "execute_result"
    }
   ],
   "execution_count": 4
  },
  {
   "cell_type": "code",
   "source": [
    "engine = create_engine('sqlite:///sysarmy.sqlite3', echo=True)"
   ],
   "metadata": {
    "id": "BR8W4-A4Gm9x",
    "ExecuteTime": {
     "end_time": "2024-05-10T17:39:11.040491Z",
     "start_time": "2024-05-10T17:39:11.008764Z"
    }
   },
   "outputs": [],
   "execution_count": 5
  },
  {
   "cell_type": "code",
   "source": [
    "df.to_sql('survey', con=engine, if_exists=\"replace\")"
   ],
   "metadata": {
    "colab": {
     "base_uri": "https://localhost:8080/"
    },
    "id": "4L4U1pKvGp8A",
    "outputId": "fc5c114b-6869-47e5-a8b3-2fcc67fea01c",
    "ExecuteTime": {
     "end_time": "2024-05-10T17:39:14.361700Z",
     "start_time": "2024-05-10T17:39:13.799198Z"
    }
   },
   "outputs": [
    {
     "name": "stdout",
     "output_type": "stream",
     "text": [
      "2024-05-10 12:39:13,812 INFO sqlalchemy.engine.Engine BEGIN (implicit)\n",
      "2024-05-10 12:39:13,828 INFO sqlalchemy.engine.Engine PRAGMA main.table_info(\"survey\")\n",
      "2024-05-10 12:39:13,830 INFO sqlalchemy.engine.Engine [raw sql] ()\n",
      "2024-05-10 12:39:13,834 INFO sqlalchemy.engine.Engine PRAGMA main.table_info(\"survey\")\n",
      "2024-05-10 12:39:13,835 INFO sqlalchemy.engine.Engine [raw sql] ()\n",
      "2024-05-10 12:39:13,837 INFO sqlalchemy.engine.Engine SELECT name FROM sqlite_master WHERE type='table' AND name NOT LIKE 'sqlite~_%' ESCAPE '~' ORDER BY name\n",
      "2024-05-10 12:39:13,837 INFO sqlalchemy.engine.Engine [raw sql] ()\n",
      "2024-05-10 12:39:13,841 INFO sqlalchemy.engine.Engine SELECT name FROM sqlite_master WHERE type='view' AND name NOT LIKE 'sqlite~_%' ESCAPE '~' ORDER BY name\n",
      "2024-05-10 12:39:13,842 INFO sqlalchemy.engine.Engine [raw sql] ()\n",
      "2024-05-10 12:39:13,843 INFO sqlalchemy.engine.Engine PRAGMA main.table_xinfo(\"survey\")\n",
      "2024-05-10 12:39:13,843 INFO sqlalchemy.engine.Engine [raw sql] ()\n",
      "2024-05-10 12:39:13,848 INFO sqlalchemy.engine.Engine SELECT sql FROM  (SELECT * FROM sqlite_master UNION ALL   SELECT * FROM sqlite_temp_master) WHERE name = ? AND type in ('table', 'view')\n",
      "2024-05-10 12:39:13,848 INFO sqlalchemy.engine.Engine [raw sql] ('survey',)\n",
      "2024-05-10 12:39:13,852 INFO sqlalchemy.engine.Engine PRAGMA main.foreign_key_list(\"survey\")\n",
      "2024-05-10 12:39:13,852 INFO sqlalchemy.engine.Engine [raw sql] ()\n",
      "2024-05-10 12:39:13,852 INFO sqlalchemy.engine.Engine PRAGMA temp.foreign_key_list(\"survey\")\n",
      "2024-05-10 12:39:13,855 INFO sqlalchemy.engine.Engine [raw sql] ()\n",
      "2024-05-10 12:39:13,855 INFO sqlalchemy.engine.Engine SELECT sql FROM  (SELECT * FROM sqlite_master UNION ALL   SELECT * FROM sqlite_temp_master) WHERE name = ? AND type in ('table', 'view')\n",
      "2024-05-10 12:39:13,855 INFO sqlalchemy.engine.Engine [raw sql] ('survey',)\n",
      "2024-05-10 12:39:13,857 INFO sqlalchemy.engine.Engine PRAGMA main.index_list(\"survey\")\n",
      "2024-05-10 12:39:13,859 INFO sqlalchemy.engine.Engine [raw sql] ()\n",
      "2024-05-10 12:39:13,864 INFO sqlalchemy.engine.Engine PRAGMA main.index_info(\"ix_survey_index\")\n",
      "2024-05-10 12:39:13,864 INFO sqlalchemy.engine.Engine [raw sql] ()\n",
      "2024-05-10 12:39:13,865 INFO sqlalchemy.engine.Engine PRAGMA main.index_list(\"survey\")\n",
      "2024-05-10 12:39:13,867 INFO sqlalchemy.engine.Engine [raw sql] ()\n",
      "2024-05-10 12:39:13,869 INFO sqlalchemy.engine.Engine PRAGMA main.index_info(\"ix_survey_index\")\n",
      "2024-05-10 12:39:13,869 INFO sqlalchemy.engine.Engine [raw sql] ()\n",
      "2024-05-10 12:39:13,869 INFO sqlalchemy.engine.Engine SELECT sql FROM  (SELECT * FROM sqlite_master UNION ALL   SELECT * FROM sqlite_temp_master) WHERE name = ? AND type in ('table', 'view')\n",
      "2024-05-10 12:39:13,873 INFO sqlalchemy.engine.Engine [raw sql] ('survey',)\n",
      "2024-05-10 12:39:13,879 INFO sqlalchemy.engine.Engine \n",
      "DROP TABLE survey\n",
      "2024-05-10 12:39:13,879 INFO sqlalchemy.engine.Engine [no key 0.00070s] ()\n",
      "2024-05-10 12:39:13,897 INFO sqlalchemy.engine.Engine \n",
      "CREATE TABLE survey (\n",
      "\t\"index\" BIGINT, \n",
      "\twork_province TEXT, \n",
      "\twork_contract_type TEXT, \n",
      "\t\"salary_monthly_BRUTO\" TEXT, \n",
      "\t\"salary_monthly_NETO\" FLOAT, \n",
      "\tsalary_in_usd TEXT, \n",
      "\tsalary_last_dollar_value TEXT, \n",
      "\tsalary_satisfaction BIGINT, \n",
      "\tsalary_comparison_last_semester BIGINT, \n",
      "\tsalary_has_bonus TEXT, \n",
      "\tsalary_bonus_tied_to TEXT, \n",
      "\tsalary_inflation_adjustment_2021 TEXT, \n",
      "\tsalary_percentage_inflation_adjustment_2021 FLOAT, \n",
      "\tsalary_month_last_inflation_adjustment FLOAT, \n",
      "\twork_role TEXT, \n",
      "\tprofile_years_experience FLOAT, \n",
      "\twork_years_in_company FLOAT, \n",
      "\twork_years_in_current_position FLOAT, \n",
      "\twork_people_in_charge_of BIGINT, \n",
      "\ttools_platform TEXT, \n",
      "\t\"Lenguajes de programación o tecnologías.\" TEXT, \n",
      "\ttools_frameworks TEXT, \n",
      "\ttools_data_bases TEXT, \n",
      "\ttools_qa_testing TEXT, \n",
      "\t\"tools_IDEs\" TEXT, \n",
      "\t\"Cantidad de personas en tu organización\" TEXT, \n",
      "\t\"Trabajo para una empresa que no tiene oficina en mi ciudad\" TEXT, \n",
      "\tcompany_main_activity TEXT, \n",
      "\tcompany_recommended BIGINT, \n",
      "\tcompany_extra_benefits TEXT, \n",
      "\tcompany_diversity_policies BIGINT, \n",
      "\t\"¿Salir o seguir contestando?\" TEXT, \n",
      "\tprofile_studies_level TEXT, \n",
      "\tprofile_studies_level_state TEXT, \n",
      "\tprofile_career TEXT, \n",
      "\tprofile_university TEXT, \n",
      "\tprofile_specialization_courses TEXT, \n",
      "\tprofile_open_source_contributions TEXT, \n",
      "\tprofile_programming_as_hobby TEXT, \n",
      "\t\"¿Salir o seguir contestando?.1\" TEXT, \n",
      "\twork_on_call_duty TEXT, \n",
      "\tsalary_on_call_duty_charge FLOAT, \n",
      "\twork_on_call_duty_charge_type TEXT, \n",
      "\t\"¿Salir o seguir contestando?.2\" TEXT, \n",
      "\twork_has_violence_situations TEXT, \n",
      "\t\"¿Considerás que en tu empresa/organización hay una marcada tendencia a escuchar más a los hombres?\" TEXT, \n",
      "\twork_yourself_in_your_work TEXT, \n",
      "\twork_listen_more_men TEXT, \n",
      "\tprofile_has_disabilities TEXT, \n",
      "\tprofile_has_disabilities_hiring_difficulties TEXT, \n",
      "\twork_lastyear_discrimination TEXT, \n",
      "\t\"¿Salir o seguir contestando?.3\" TEXT, \n",
      "\tcompany_days_in_the_office FLOAT, \n",
      "\tcompany_pandemic_support FLOAT, \n",
      "\tcompany_new_benefits TEXT, \n",
      "\tprofile_age BIGINT, \n",
      "\tprofile_gender TEXT\n",
      ")\n",
      "\n",
      "\n",
      "2024-05-10 12:39:13,897 INFO sqlalchemy.engine.Engine [no key 0.00085s] ()\n",
      "2024-05-10 12:39:13,905 INFO sqlalchemy.engine.Engine CREATE INDEX ix_survey_index ON survey (\"index\")\n",
      "2024-05-10 12:39:13,907 INFO sqlalchemy.engine.Engine [no key 0.00110s] ()\n",
      "2024-05-10 12:39:14,176 INFO sqlalchemy.engine.Engine INSERT INTO survey (\"index\", work_province, work_contract_type, \"salary_monthly_BRUTO\", \"salary_monthly_NETO\", salary_in_usd, salary_last_dollar_value, salary_satisfaction, salary_comparison_last_semester, salary_has_bonus, salary_bonus_tied_to, salary_inflation_adjustment_2021, salary_percentage_inflation_adjustment_2021, salary_month_last_inflation_adjustment, work_role, profile_years_experience, work_years_in_company, work_years_in_current_position, work_people_in_charge_of, tools_platform, \"Lenguajes de programación o tecnologías.\", tools_frameworks, tools_data_bases, tools_qa_testing, \"tools_IDEs\", \"Cantidad de personas en tu organización\", \"Trabajo para una empresa que no tiene oficina en mi ciudad\", company_main_activity, company_recommended, company_extra_benefits, company_diversity_policies, \"¿Salir o seguir contestando?\", profile_studies_level, profile_studies_level_state, profile_career, profile_university, profile_specialization_courses, profile_open_source_contributions, profile_programming_as_hobby, \"¿Salir o seguir contestando?.1\", work_on_call_duty, salary_on_call_duty_charge, work_on_call_duty_charge_type, \"¿Salir o seguir contestando?.2\", work_has_violence_situations, \"¿Considerás que en tu empresa/organización hay una marcada tendencia a escuchar más a los hombres?\", work_yourself_in_your_work, work_listen_more_men, profile_has_disabilities, profile_has_disabilities_hiring_difficulties, work_lastyear_discrimination, \"¿Salir o seguir contestando?.3\", company_days_in_the_office, company_pandemic_support, company_new_benefits, profile_age, profile_gender) VALUES (?, ?, ?, ?, ?, ?, ?, ?, ?, ?, ?, ?, ?, ?, ?, ?, ?, ?, ?, ?, ?, ?, ?, ?, ?, ?, ?, ?, ?, ?, ?, ?, ?, ?, ?, ?, ?, ?, ?, ?, ?, ?, ?, ?, ?, ?, ?, ?, ?, ?, ?, ?, ?, ?, ?, ?, ?)\n",
      "2024-05-10 12:39:14,176 INFO sqlalchemy.engine.Engine [generated in 0.20486s] [(0, 'Catamarca', 'Tercerizado (trabajo a través de consultora o agencia)', '207000', 150000.0, None, None, 2, 1, 'No', 'No recibo bono', 'Dos', 53.0, 11.0, 'Technical Leader', 9.0, 1.0, 3.0, 0, 'Ninguna de las anteriores', 'Ninguno de los anteriores', 'Ninguno de los anteriores', 'Ninguna de las anteriores', 'Ninguna de las anteriores', 'Ninguno de los anteriores', '5001-10000', 'Trabajo para una empresa que no tiene oficina en mi ciudad', 'Otras industrias', 10, 'Horarios flexibles', 9, 'Quiero responder más preguntas', 'Universitario', 'Completado', 'Licenciatura en redes y comunicación de datos ', 'UP - Universidad de Palermo', 'Sí, de forma particular, Sí, los pagó un empleador', 'No', 'Sí', 'Quiero responder más preguntas', 'No', 0.0, 'Porcentaje de mi sueldo', 'Ya colaboré lo suficiente', None, None, None, None, None, None, None, None, None, None, None, 34, 'Varón Cis'), (1, 'Catamarca', 'Full-Time', '130000', 99000.0, None, None, 3, 4, 'Un sueldo', 'Performance de la compañía', 'Tres', 13.0, 10.0, 'Developer', 7.0, 0.0, 5.0, 0, 'Serverless, Windows Server', '.NET, C#, SQL, TypeScript', '.NET Core, Angular, Bootstrap', 'Informix', 'JUnit, Karma, Postman', 'Visual Studio, Visual Studio Code', '51-100', None, 'Producto basado en Software', 9, 'Capacitaciones y/o cursos, Clases de idiomas', 9, 'Ya colaboré lo suficiente', None, None, None, None, None, None, None, None, None, None, None, None, None, None, None, None, None, None, None, None, None, None, None, 35, 'Varón Cis'), (2, 'Catamarca', 'Full-Time', '185000', 145000.0, 'Mi sueldo está dolarizado (pero cobro en moneda local)', '100', 2, 2, 'De uno a tres sueldos', 'Performance grupal', 'Uno', 10.0, 2.0, 'Developer', 2.0, 1.0, 1.0, 0, 'Amazon Web Services', 'Go, Java, SQL', 'Spring, Gin gonic', 'Amazon DynamoDB, MySQL', 'JUnit, Postman', 'IntelliJ, Visual Studio Code', '5001-10000', 'Trabajo para una empresa que no tiene oficina en mi ciudad', 'Producto basado en Software', 10, 'Descuento en gimnasios / Clases de gimnasia online, Descuentos varios (Mercado Pago, Clarín 365, Club La Nación, etc), Horarios flexibles', 10, 'Ya colaboré lo suficiente', None, None, None, None, None, None, None, None, None, None, None, None, None, None, None, None, None, None, None, None, None, None, None, 26, 'Varón Trans'), (3, 'Catamarca', 'Full-Time', '70000', 60000.0, None, None, 3, 3, 'No', 'No recibo bono', 'No', 10.0, 6.0, 'Developer', 5.0, 4.0, 2.0, 1, 'Arduino o similar, Docker, Linux, Microcontroladores, VMWare', 'Arduino, C, PHP, Python, R', 'Bootstrap, Node.js, Svelte', 'MariaDB, MongoDB, MySQL', 'Ninguna de las anteriores', 'IntelliJ, NetBeans, Notepad++, PHPStorm, Visual Studio Code', '501-1000', None, 'Otras industrias', 5, 'Ninguna de las anteriores', 5, 'Ya colaboré lo suficiente', None, None, None, None, None, None, None, None, None, None, None, None, None, None, None, None, None, None, None, None, None, None, None, 33, 'Varón Cis'), (4, 'Catamarca', 'Full-Time', '90000', 74700.0, None, None, 3, 2, 'No', 'No recibo bono', 'No', 0.0, 0.0, 'QA / Tester', 0.0, 0.0, 0.0, 0, 'Azure', 'Ninguno de los anteriores', 'Ninguno de los anteriores', 'Ninguna de las anteriores', 'Ninguna de las anteriores', 'Ninguno de los anteriores', '101-200', 'Trabajo para una empresa que no tiene oficina en mi ciudad', 'Servicios / Consultoría de Software / Digital', 8, 'Abono de Internet, Capacitaciones y/o cursos, Clases de idiomas, Comidas pagas / subvencionadas', 2, 'Quiero responder más preguntas', 'Terciario', 'En curso', 'Tecnicatura en Programación', None, 'Sí, de forma particular', 'No', 'No', 'Ya colaboré lo suficiente', None, None, None, None, None, None, None, None, None, None, None, None, None, None, None, 29, 'Mujer Cis'), (5, 'Catamarca', 'Full-Time', '250000', 169000.0, 'Mi sueldo está dolarizado (pero cobro en moneda local)', '105.6', 4, 4, 'No', 'No recibo bono', 'Tres', 52.0, 12.0, 'Networking', 36.0, 36.0, 15.0, 28, 'Linux', 'PHP, Python', 'Drupal', 'MariaDB, MySQL', 'Ninguna de las anteriores', 'IPython / Jupyter', '51-100', None, 'Servicios / Consultoría de Software / Digital', 10, 'Abono de celular, Abono de Internet', 10, 'Ya colaboré lo suficiente', None, None, None, None, None, None, None, None, None, None, None, None, None, None, None, None, None, None, None, None, None, None, None, 53, 'Varón Cis'), (6, 'Catamarca', 'Full-Time', '447000', 300000.0, 'Mi sueldo está dolarizado (pero cobro en moneda local)', '200', 3, 3, 'De uno a tres sueldos', 'Mix de las anteriores', 'Dos', 40.0, 7.0, 'Developer', 3.0, 0.0, 0.0, 0, 'Firebase', 'CSS, Javascript, TypeScript', 'Angular, React.js, React native', 'Ninguna de las anteriores', 'Jest, react native testing library', 'Android Studio, Visual Studio Code, Xcode', '101-200', 'Trabajo para una empresa que no tiene oficina en mi ciudad', 'Producto basado en Software', 6, 'Clases de idiomas, Horarios flexibles, Licencia de paternidad / maternidad extendida, Vacaciones flexibles (adicionales a las reglamentarias)', 2, 'Quiero responder más preguntas', 'Universitario', 'Completado', 'Ingeniería en Informática', 'UNCA universidad nacional de catamarca', 'Sí, de forma particular', 'No', 'No', 'Quiero responder más preguntas', 'Sí, pasiva', 0.0, 'Porcentaje de mi sueldo', 'Ya colaboré lo suficiente', None, None, None, None, None, None, None, None, None, None, None, 28, 'Varón Cis'), (7, 'Catamarca', 'Part-Time', '160000', 110000.0, None, None, 2, 2, 'No', 'No recibo bono', 'Dos', 35.0, 11.0, 'Infosec', 25.0, 20.0, 3.0, 0, 'Docker, Linux, VMWare', 'Bash/Shell, HTML, Java, Javascript, PHP, Python, R, SQL', 'Django, Laravel', 'MySQL', 'Ninguna de las anteriores', 'IPython / Jupyter, Notepad++, Sublime Text, Vi, Vim', '11-50', None, 'Otras industrias', 5, 'Estacionamiento gratuito / subvencionado, Licencia de paternidad / maternidad extendida', 7, 'Quiero responder más preguntas', 'Universitario', 'Completado', 'Licenciatura en Sistemas de Información', 'UNCa', 'Sí, de forma particular', 'Sí', 'Sí', 'Quiero responder más preguntas', 'Sí, pasiva', 0.0, 'Bruto', 'Quiero responder más preguntas', None, 'No', 'Sí', 'No', None, 'No', 'Nunca', 'Quiero responder más preguntas', 5.0, 9.0, 'Préstamo de equipos', 50, 'Varón ')  ... displaying 10 of 5854 total bound parameter sets ...  (5852, 'Tucumán', 'Full-Time', '59500', 49385.0, None, None, 2, 2, 'Un sueldo', 'Performance individual', 'Dos', 17.0, 10.0, 'Recruiter / HR', 1.0, 1.0, 1.0, 5, 'Ninguna de las anteriores', 'Ninguno de los anteriores', 'Ninguno de los anteriores', 'Ninguna de las anteriores', 'Ninguna de las anteriores', 'Ninguno de los anteriores', '2-10', 'Trabajo para una empresa que no tiene oficina en mi ciudad', 'Servicios / Consultoría de Software / Digital', 9, 'Clases de idiomas, Horarios flexibles', 0, 'Quiero responder más preguntas', 'Universitario', 'Incompleto', 'Licenciatura en Administración', 'UNT - Universidad Nacional de Tucumán', 'Sí, de forma particular', 'No', 'No', 'Quiero responder más preguntas', 'No', 0.0, 'Neto', 'Quiero responder más preguntas', None, None, 'Sí', 'Sí', None, 'No', 'Nunca', 'Quiero responder más preguntas', 0.0, 8.0, 'Ninguna de las anteriores', 31, 'Varón Cis'), (5853, 'Tucumán', 'Full-Time', '88060', 74000.0, None, None, 2, 2, 'No', 'No recibo bono', 'Uno', 34.0, 12.0, 'Designer', 22.0, 12.0, 3.0, 0, 'Ninguna de las anteriores', 'CSS, HTML, Javascript', 'Bootstrap, Drupal, jQuery, WordPress', 'MySQL', 'Ninguna de las anteriores', 'Sublime Text, Visual Studio Code', '2-10', None, 'Servicios / Consultoría de Software / Digital', 6, 'Ninguna de las anteriores', 0, 'Quiero responder más preguntas', 'Secundario', 'Completado', None, None, 'Sí, de forma particular', 'No', 'No', 'Quiero responder más preguntas', 'No', 0.0, 'Porcentaje de mi sueldo', 'Quiero responder más preguntas', 'Asimetría jerárquica', 'Sí', 'Sí', 'No', None, 'No', None, 'Ya colaboré lo suficiente', None, None, None, 44, 'Varón Cis')]\n",
      "2024-05-10 12:39:14,331 INFO sqlalchemy.engine.Engine COMMIT\n"
     ]
    },
    {
     "data": {
      "text/plain": [
       "5854"
      ]
     },
     "execution_count": 6,
     "metadata": {},
     "output_type": "execute_result"
    }
   ],
   "execution_count": 6
  },
  {
   "cell_type": "code",
   "source": [
    "query1 = \"SELECT * FROM survey WHERE salary_monthly_NETO > 100000 LIMIT 10\"\n",
    "query2 = \"SELECT COUNT(1) FROM survey WHERE salary_monthly_NETO > 100000\"\n",
    "query3 = \"SELECT AVG(salary_monthly_NETO) FROM survey\"\n",
    "query4 = \"SELECT AVG(salary_monthly_NETO) FROM survey WHERE profile_gender = 'Mujer'\"\n",
    "query5 = \"SELECT AVG(salary_monthly_NETO) FROM survey WHERE profile_gender = 'Hombre'\"\n",
    "query6 = \"SELECT profile_gender, AVG(salary_monthly_NETO) FROM survey GROUP BY profile_gender\"\n",
    "query7 = \"SELECT profile_gender, AVG(salary_monthly_NETO) FROM survey WHERE profile_years_experience > 5 GROUP BY profile_gender\"\n",
    "query8 = \"SELECT profile_gender, AVG(salary_monthly_NETO) as avg_salary, MAX(salary_monthly_NETO), MIN(salary_monthly_NETO), COUNT(1) FROM survey WHERE profile_years_experience > 5 GROUP BY profile_gender HAVING COUNT(*) > 100 ORDER BY  AVG(salary_monthly_NETO) DESC\"\n",
    "\n",
    "queries = [query1, query2, query3, query4, query5, query6, query7, query8]"
   ],
   "metadata": {
    "id": "ScGvCcW8OqbQ",
    "ExecuteTime": {
     "end_time": "2024-05-10T18:42:04.389844Z",
     "start_time": "2024-05-10T18:42:04.358583Z"
    }
   },
   "outputs": [],
   "execution_count": 20
  },
  {
   "cell_type": "code",
   "source": [
    "with engine.connect() as con:\n",
    "      rs = con.execute(query3)\n",
    "      # print(query1)\n",
    "      for row in rs:\n",
    "          print(row)"
   ],
   "metadata": {
    "colab": {
     "base_uri": "https://localhost:8080/"
    },
    "id": "AuEnTp6D-wp9",
    "outputId": "62125a40-ea01-48f6-8924-3552286872bf",
    "ExecuteTime": {
     "end_time": "2024-05-10T18:44:22.693204Z",
     "start_time": "2024-05-10T18:44:22.634925Z"
    }
   },
   "outputs": [
    {
     "ename": "ObjectNotExecutableError",
     "evalue": "Not an executable object: 'SELECT AVG(salary_monthly_NETO) FROM survey'",
     "output_type": "error",
     "traceback": [
      "\u001B[1;31m---------------------------------------------------------------------------\u001B[0m",
      "\u001B[1;31mAttributeError\u001B[0m                            Traceback (most recent call last)",
      "File \u001B[1;32m~\\anaconda3\\lib\\site-packages\\sqlalchemy\\engine\\base.py:1418\u001B[0m, in \u001B[0;36mConnection.execute\u001B[1;34m(self, statement, parameters, execution_options)\u001B[0m\n\u001B[0;32m   1417\u001B[0m \u001B[38;5;28;01mtry\u001B[39;00m:\n\u001B[1;32m-> 1418\u001B[0m     meth \u001B[38;5;241m=\u001B[39m \u001B[43mstatement\u001B[49m\u001B[38;5;241;43m.\u001B[39;49m\u001B[43m_execute_on_connection\u001B[49m\n\u001B[0;32m   1419\u001B[0m \u001B[38;5;28;01mexcept\u001B[39;00m \u001B[38;5;167;01mAttributeError\u001B[39;00m \u001B[38;5;28;01mas\u001B[39;00m err:\n",
      "\u001B[1;31mAttributeError\u001B[0m: 'str' object has no attribute '_execute_on_connection'",
      "\nThe above exception was the direct cause of the following exception:\n",
      "\u001B[1;31mObjectNotExecutableError\u001B[0m                  Traceback (most recent call last)",
      "Cell \u001B[1;32mIn[22], line 2\u001B[0m\n\u001B[0;32m      1\u001B[0m \u001B[38;5;28;01mwith\u001B[39;00m engine\u001B[38;5;241m.\u001B[39mconnect() \u001B[38;5;28;01mas\u001B[39;00m con:\n\u001B[1;32m----> 2\u001B[0m       rs \u001B[38;5;241m=\u001B[39m \u001B[43mcon\u001B[49m\u001B[38;5;241;43m.\u001B[39;49m\u001B[43mexecute\u001B[49m\u001B[43m(\u001B[49m\u001B[43mquery3\u001B[49m\u001B[43m)\u001B[49m\n\u001B[0;32m      3\u001B[0m       \u001B[38;5;66;03m# print(query1)\u001B[39;00m\n\u001B[0;32m      4\u001B[0m       \u001B[38;5;28;01mfor\u001B[39;00m row \u001B[38;5;129;01min\u001B[39;00m rs:\n",
      "File \u001B[1;32m~\\anaconda3\\lib\\site-packages\\sqlalchemy\\engine\\base.py:1420\u001B[0m, in \u001B[0;36mConnection.execute\u001B[1;34m(self, statement, parameters, execution_options)\u001B[0m\n\u001B[0;32m   1418\u001B[0m     meth \u001B[38;5;241m=\u001B[39m statement\u001B[38;5;241m.\u001B[39m_execute_on_connection\n\u001B[0;32m   1419\u001B[0m \u001B[38;5;28;01mexcept\u001B[39;00m \u001B[38;5;167;01mAttributeError\u001B[39;00m \u001B[38;5;28;01mas\u001B[39;00m err:\n\u001B[1;32m-> 1420\u001B[0m     \u001B[38;5;28;01mraise\u001B[39;00m exc\u001B[38;5;241m.\u001B[39mObjectNotExecutableError(statement) \u001B[38;5;28;01mfrom\u001B[39;00m \u001B[38;5;21;01merr\u001B[39;00m\n\u001B[0;32m   1421\u001B[0m \u001B[38;5;28;01melse\u001B[39;00m:\n\u001B[0;32m   1422\u001B[0m     \u001B[38;5;28;01mreturn\u001B[39;00m meth(\n\u001B[0;32m   1423\u001B[0m         \u001B[38;5;28mself\u001B[39m,\n\u001B[0;32m   1424\u001B[0m         distilled_parameters,\n\u001B[0;32m   1425\u001B[0m         execution_options \u001B[38;5;129;01mor\u001B[39;00m NO_OPTIONS,\n\u001B[0;32m   1426\u001B[0m     )\n",
      "\u001B[1;31mObjectNotExecutableError\u001B[0m: Not an executable object: 'SELECT AVG(salary_monthly_NETO) FROM survey'"
     ]
    }
   ],
   "execution_count": 22
  },
  {
   "cell_type": "code",
   "source": [
    "with engine.connect() as con:\n",
    "    for query in queries:\n",
    "      rs = con.execute(query)\n",
    "      print(query)\n",
    "      for row in rs:\n",
    "          print(row)\n",
    "\n",
    "      print('\\n\\n')"
   ],
   "metadata": {
    "colab": {
     "base_uri": "https://localhost:8080/"
    },
    "id": "MaN-lhJZGt-q",
    "outputId": "eced8011-07f1-4653-9781-403850e1a747",
    "ExecuteTime": {
     "end_time": "2024-05-10T17:49:05.391368Z",
     "start_time": "2024-05-10T17:49:05.336174Z"
    }
   },
   "outputs": [
    {
     "ename": "ObjectNotExecutableError",
     "evalue": "Not an executable object: 'SELECT * FROM survey WHERE salary_monthly_NETO > 100000 LIMIT 10'",
     "output_type": "error",
     "traceback": [
      "\u001B[1;31m---------------------------------------------------------------------------\u001B[0m",
      "\u001B[1;31mAttributeError\u001B[0m                            Traceback (most recent call last)",
      "File \u001B[1;32m~\\anaconda3\\lib\\site-packages\\sqlalchemy\\engine\\base.py:1418\u001B[0m, in \u001B[0;36mConnection.execute\u001B[1;34m(self, statement, parameters, execution_options)\u001B[0m\n\u001B[0;32m   1417\u001B[0m \u001B[38;5;28;01mtry\u001B[39;00m:\n\u001B[1;32m-> 1418\u001B[0m     meth \u001B[38;5;241m=\u001B[39m \u001B[43mstatement\u001B[49m\u001B[38;5;241;43m.\u001B[39;49m\u001B[43m_execute_on_connection\u001B[49m\n\u001B[0;32m   1419\u001B[0m \u001B[38;5;28;01mexcept\u001B[39;00m \u001B[38;5;167;01mAttributeError\u001B[39;00m \u001B[38;5;28;01mas\u001B[39;00m err:\n",
      "\u001B[1;31mAttributeError\u001B[0m: 'str' object has no attribute '_execute_on_connection'",
      "\nThe above exception was the direct cause of the following exception:\n",
      "\u001B[1;31mObjectNotExecutableError\u001B[0m                  Traceback (most recent call last)",
      "Cell \u001B[1;32mIn[15], line 3\u001B[0m\n\u001B[0;32m      1\u001B[0m \u001B[38;5;28;01mwith\u001B[39;00m engine\u001B[38;5;241m.\u001B[39mconnect() \u001B[38;5;28;01mas\u001B[39;00m con:\n\u001B[0;32m      2\u001B[0m     \u001B[38;5;28;01mfor\u001B[39;00m query \u001B[38;5;129;01min\u001B[39;00m queries:\n\u001B[1;32m----> 3\u001B[0m       rs \u001B[38;5;241m=\u001B[39m \u001B[43mcon\u001B[49m\u001B[38;5;241;43m.\u001B[39;49m\u001B[43mexecute\u001B[49m\u001B[43m(\u001B[49m\u001B[43mquery\u001B[49m\u001B[43m)\u001B[49m\n\u001B[0;32m      4\u001B[0m       \u001B[38;5;28mprint\u001B[39m(query)\n\u001B[0;32m      5\u001B[0m       \u001B[38;5;28;01mfor\u001B[39;00m row \u001B[38;5;129;01min\u001B[39;00m rs:\n",
      "File \u001B[1;32m~\\anaconda3\\lib\\site-packages\\sqlalchemy\\engine\\base.py:1420\u001B[0m, in \u001B[0;36mConnection.execute\u001B[1;34m(self, statement, parameters, execution_options)\u001B[0m\n\u001B[0;32m   1418\u001B[0m     meth \u001B[38;5;241m=\u001B[39m statement\u001B[38;5;241m.\u001B[39m_execute_on_connection\n\u001B[0;32m   1419\u001B[0m \u001B[38;5;28;01mexcept\u001B[39;00m \u001B[38;5;167;01mAttributeError\u001B[39;00m \u001B[38;5;28;01mas\u001B[39;00m err:\n\u001B[1;32m-> 1420\u001B[0m     \u001B[38;5;28;01mraise\u001B[39;00m exc\u001B[38;5;241m.\u001B[39mObjectNotExecutableError(statement) \u001B[38;5;28;01mfrom\u001B[39;00m \u001B[38;5;21;01merr\u001B[39;00m\n\u001B[0;32m   1421\u001B[0m \u001B[38;5;28;01melse\u001B[39;00m:\n\u001B[0;32m   1422\u001B[0m     \u001B[38;5;28;01mreturn\u001B[39;00m meth(\n\u001B[0;32m   1423\u001B[0m         \u001B[38;5;28mself\u001B[39m,\n\u001B[0;32m   1424\u001B[0m         distilled_parameters,\n\u001B[0;32m   1425\u001B[0m         execution_options \u001B[38;5;129;01mor\u001B[39;00m NO_OPTIONS,\n\u001B[0;32m   1426\u001B[0m     )\n",
      "\u001B[1;31mObjectNotExecutableError\u001B[0m: Not an executable object: 'SELECT * FROM survey WHERE salary_monthly_NETO > 100000 LIMIT 10'"
     ]
    }
   ],
   "execution_count": 15
  },
  {
   "cell_type": "code",
   "source": [
    "conn = engine.connect()"
   ],
   "metadata": {
    "id": "DsHMfh3OMRR-",
    "ExecuteTime": {
     "end_time": "2024-05-10T17:49:10.505801Z",
     "start_time": "2024-05-10T17:49:10.486473Z"
    }
   },
   "outputs": [],
   "execution_count": 16
  },
  {
   "cell_type": "code",
   "source": [
    "result = conn.execute('SELECT COUNT(1) FROM survey WHERE salary_monthly_NETO > 100000')\n",
    "print(result.all())"
   ],
   "metadata": {
    "colab": {
     "base_uri": "https://localhost:8080/"
    },
    "id": "HRSjKMOuLuMA",
    "outputId": "956b9d3f-c261-408c-fe4d-fe7b7ee197d5",
    "ExecuteTime": {
     "end_time": "2024-05-10T17:49:11.772798Z",
     "start_time": "2024-05-10T17:49:11.713259Z"
    }
   },
   "outputs": [
    {
     "ename": "ObjectNotExecutableError",
     "evalue": "Not an executable object: 'SELECT COUNT(1) FROM survey WHERE salary_monthly_NETO > 100000'",
     "output_type": "error",
     "traceback": [
      "\u001B[1;31m---------------------------------------------------------------------------\u001B[0m",
      "\u001B[1;31mAttributeError\u001B[0m                            Traceback (most recent call last)",
      "File \u001B[1;32m~\\anaconda3\\lib\\site-packages\\sqlalchemy\\engine\\base.py:1418\u001B[0m, in \u001B[0;36mConnection.execute\u001B[1;34m(self, statement, parameters, execution_options)\u001B[0m\n\u001B[0;32m   1417\u001B[0m \u001B[38;5;28;01mtry\u001B[39;00m:\n\u001B[1;32m-> 1418\u001B[0m     meth \u001B[38;5;241m=\u001B[39m \u001B[43mstatement\u001B[49m\u001B[38;5;241;43m.\u001B[39;49m\u001B[43m_execute_on_connection\u001B[49m\n\u001B[0;32m   1419\u001B[0m \u001B[38;5;28;01mexcept\u001B[39;00m \u001B[38;5;167;01mAttributeError\u001B[39;00m \u001B[38;5;28;01mas\u001B[39;00m err:\n",
      "\u001B[1;31mAttributeError\u001B[0m: 'str' object has no attribute '_execute_on_connection'",
      "\nThe above exception was the direct cause of the following exception:\n",
      "\u001B[1;31mObjectNotExecutableError\u001B[0m                  Traceback (most recent call last)",
      "Cell \u001B[1;32mIn[17], line 1\u001B[0m\n\u001B[1;32m----> 1\u001B[0m result \u001B[38;5;241m=\u001B[39m \u001B[43mconn\u001B[49m\u001B[38;5;241;43m.\u001B[39;49m\u001B[43mexecute\u001B[49m\u001B[43m(\u001B[49m\u001B[38;5;124;43m'\u001B[39;49m\u001B[38;5;124;43mSELECT COUNT(1) FROM survey WHERE salary_monthly_NETO > 100000\u001B[39;49m\u001B[38;5;124;43m'\u001B[39;49m\u001B[43m)\u001B[49m\n\u001B[0;32m      2\u001B[0m \u001B[38;5;28mprint\u001B[39m(result\u001B[38;5;241m.\u001B[39mall())\n",
      "File \u001B[1;32m~\\anaconda3\\lib\\site-packages\\sqlalchemy\\engine\\base.py:1420\u001B[0m, in \u001B[0;36mConnection.execute\u001B[1;34m(self, statement, parameters, execution_options)\u001B[0m\n\u001B[0;32m   1418\u001B[0m     meth \u001B[38;5;241m=\u001B[39m statement\u001B[38;5;241m.\u001B[39m_execute_on_connection\n\u001B[0;32m   1419\u001B[0m \u001B[38;5;28;01mexcept\u001B[39;00m \u001B[38;5;167;01mAttributeError\u001B[39;00m \u001B[38;5;28;01mas\u001B[39;00m err:\n\u001B[1;32m-> 1420\u001B[0m     \u001B[38;5;28;01mraise\u001B[39;00m exc\u001B[38;5;241m.\u001B[39mObjectNotExecutableError(statement) \u001B[38;5;28;01mfrom\u001B[39;00m \u001B[38;5;21;01merr\u001B[39;00m\n\u001B[0;32m   1421\u001B[0m \u001B[38;5;28;01melse\u001B[39;00m:\n\u001B[0;32m   1422\u001B[0m     \u001B[38;5;28;01mreturn\u001B[39;00m meth(\n\u001B[0;32m   1423\u001B[0m         \u001B[38;5;28mself\u001B[39m,\n\u001B[0;32m   1424\u001B[0m         distilled_parameters,\n\u001B[0;32m   1425\u001B[0m         execution_options \u001B[38;5;129;01mor\u001B[39;00m NO_OPTIONS,\n\u001B[0;32m   1426\u001B[0m     )\n",
      "\u001B[1;31mObjectNotExecutableError\u001B[0m: Not an executable object: 'SELECT COUNT(1) FROM survey WHERE salary_monthly_NETO > 100000'"
     ]
    }
   ],
   "execution_count": 17
  },
  {
   "cell_type": "code",
   "source": [],
   "metadata": {
    "id": "scpCZUtNNPeg"
   },
   "execution_count": null,
   "outputs": []
  }
 ]
}
